{
 "cells": [
  {
   "cell_type": "markdown",
   "metadata": {},
   "source": [
    "Scenario # \n",
    "\n",
    "\n",
    "My daughter will be attending college in Manhattan and plans on jogging twice a week in Central Park. She would like to know which is the least and most dangerous days to go jogging. "
   ]
  },
  {
   "cell_type": "code",
   "execution_count": 2,
   "metadata": {},
   "outputs": [
    {
     "data": {
      "text/html": [
       "<style>.container { width:100% !important; }</style>"
      ],
      "text/plain": [
       "<IPython.core.display.HTML object>"
      ]
     },
     "metadata": {},
     "output_type": "display_data"
    }
   ],
   "source": [
    "#code used to expand the width of the screen *Thank you Stevie*\n",
    "from IPython.core.display import display, HTML\n",
    "display(HTML(\"<style>.container { width:100% !important; }</style>\"))"
   ]
  },
  {
   "cell_type": "code",
   "execution_count": 3,
   "metadata": {},
   "outputs": [],
   "source": [
    "import pandas as pd\n",
    "import numpy as np\n",
    "import seaborn as sns\n",
    "import matplotlib.pyplot as plot\n",
    "from IPython.display import display_html "
   ]
  },
  {
   "cell_type": "code",
   "execution_count": 4,
   "metadata": {},
   "outputs": [],
   "source": [
    "#Thanks for the Help Nelson\n",
    "dataset= pd.read_csv ('NYPD_Arrest_Data__Year_to_Date_.csv')"
   ]
  },
  {
   "cell_type": "code",
   "execution_count": 5,
   "metadata": {},
   "outputs": [
    {
     "data": {
      "text/html": [
       "<div>\n",
       "<style scoped>\n",
       "    .dataframe tbody tr th:only-of-type {\n",
       "        vertical-align: middle;\n",
       "    }\n",
       "\n",
       "    .dataframe tbody tr th {\n",
       "        vertical-align: top;\n",
       "    }\n",
       "\n",
       "    .dataframe thead th {\n",
       "        text-align: right;\n",
       "    }\n",
       "</style>\n",
       "<table border=\"1\" class=\"dataframe\">\n",
       "  <thead>\n",
       "    <tr style=\"text-align: right;\">\n",
       "      <th></th>\n",
       "      <th>ARREST_KEY</th>\n",
       "      <th>ARREST_DATE</th>\n",
       "      <th>PD_CD</th>\n",
       "      <th>PD_DESC</th>\n",
       "      <th>KY_CD</th>\n",
       "      <th>OFNS_DESC</th>\n",
       "      <th>LAW_CODE</th>\n",
       "      <th>LAW_CAT_CD</th>\n",
       "      <th>ARREST_BORO</th>\n",
       "      <th>ARREST_PRECINCT</th>\n",
       "      <th>JURISDICTION_CODE</th>\n",
       "      <th>AGE_GROUP</th>\n",
       "      <th>PERP_SEX</th>\n",
       "      <th>PERP_RACE</th>\n",
       "      <th>X_COORD_CD</th>\n",
       "      <th>Y_COORD_CD</th>\n",
       "      <th>Latitude</th>\n",
       "      <th>Longitude</th>\n",
       "      <th>New Georeferenced Column</th>\n",
       "    </tr>\n",
       "  </thead>\n",
       "  <tbody>\n",
       "    <tr>\n",
       "      <th>0</th>\n",
       "      <td>238013474</td>\n",
       "      <td>12/18/2021</td>\n",
       "      <td>157.0</td>\n",
       "      <td>RAPE 1</td>\n",
       "      <td>104.0</td>\n",
       "      <td>RAPE</td>\n",
       "      <td>PL 1303501</td>\n",
       "      <td>F</td>\n",
       "      <td>Q</td>\n",
       "      <td>105</td>\n",
       "      <td>97</td>\n",
       "      <td>18-24</td>\n",
       "      <td>M</td>\n",
       "      <td>BLACK</td>\n",
       "      <td>1057636</td>\n",
       "      <td>203954</td>\n",
       "      <td>40.726187</td>\n",
       "      <td>-73.735234</td>\n",
       "      <td>POINT (-73.73523390399998 40.72618713000002)</td>\n",
       "    </tr>\n",
       "    <tr>\n",
       "      <th>1</th>\n",
       "      <td>236943583</td>\n",
       "      <td>11/25/2021</td>\n",
       "      <td>263.0</td>\n",
       "      <td>ARSON 2,3,4</td>\n",
       "      <td>114.0</td>\n",
       "      <td>ARSON</td>\n",
       "      <td>PL 1501500</td>\n",
       "      <td>F</td>\n",
       "      <td>K</td>\n",
       "      <td>69</td>\n",
       "      <td>71</td>\n",
       "      <td>25-44</td>\n",
       "      <td>M</td>\n",
       "      <td>BLACK</td>\n",
       "      <td>1014340</td>\n",
       "      <td>171320</td>\n",
       "      <td>40.636868</td>\n",
       "      <td>-73.891586</td>\n",
       "      <td>POINT (-73.89158591899997 40.63686750900007)</td>\n",
       "    </tr>\n",
       "    <tr>\n",
       "      <th>2</th>\n",
       "      <td>234938876</td>\n",
       "      <td>10/14/2021</td>\n",
       "      <td>594.0</td>\n",
       "      <td>OBSCENITY 1</td>\n",
       "      <td>116.0</td>\n",
       "      <td>SEX CRIMES</td>\n",
       "      <td>PL 2631100</td>\n",
       "      <td>F</td>\n",
       "      <td>K</td>\n",
       "      <td>61</td>\n",
       "      <td>0</td>\n",
       "      <td>25-44</td>\n",
       "      <td>M</td>\n",
       "      <td>WHITE</td>\n",
       "      <td>995244</td>\n",
       "      <td>155739</td>\n",
       "      <td>40.594145</td>\n",
       "      <td>-73.960415</td>\n",
       "      <td>POINT (-73.96041495199995 40.59414516900005)</td>\n",
       "    </tr>\n",
       "    <tr>\n",
       "      <th>3</th>\n",
       "      <td>234788259</td>\n",
       "      <td>10/11/2021</td>\n",
       "      <td>263.0</td>\n",
       "      <td>ARSON 2,3,4</td>\n",
       "      <td>114.0</td>\n",
       "      <td>ARSON</td>\n",
       "      <td>PL 1501001</td>\n",
       "      <td>F</td>\n",
       "      <td>B</td>\n",
       "      <td>42</td>\n",
       "      <td>71</td>\n",
       "      <td>18-24</td>\n",
       "      <td>M</td>\n",
       "      <td>BLACK</td>\n",
       "      <td>1009058</td>\n",
       "      <td>239616</td>\n",
       "      <td>40.824340</td>\n",
       "      <td>-73.910365</td>\n",
       "      <td>POINT (-73.91036538099996 40.82433953100008)</td>\n",
       "    </tr>\n",
       "    <tr>\n",
       "      <th>4</th>\n",
       "      <td>234188790</td>\n",
       "      <td>09/28/2021</td>\n",
       "      <td>578.0</td>\n",
       "      <td>NaN</td>\n",
       "      <td>NaN</td>\n",
       "      <td>NaN</td>\n",
       "      <td>PL 2223001</td>\n",
       "      <td>M</td>\n",
       "      <td>B</td>\n",
       "      <td>44</td>\n",
       "      <td>0</td>\n",
       "      <td>25-44</td>\n",
       "      <td>M</td>\n",
       "      <td>BLACK</td>\n",
       "      <td>1005169</td>\n",
       "      <td>246667</td>\n",
       "      <td>40.843703</td>\n",
       "      <td>-73.924395</td>\n",
       "      <td>POINT (-73.92439508899997 40.84370255600004)</td>\n",
       "    </tr>\n",
       "  </tbody>\n",
       "</table>\n",
       "</div>"
      ],
      "text/plain": [
       "   ARREST_KEY ARREST_DATE  PD_CD      PD_DESC  KY_CD   OFNS_DESC    LAW_CODE  \\\n",
       "0   238013474  12/18/2021  157.0       RAPE 1  104.0        RAPE  PL 1303501   \n",
       "1   236943583  11/25/2021  263.0  ARSON 2,3,4  114.0       ARSON  PL 1501500   \n",
       "2   234938876  10/14/2021  594.0  OBSCENITY 1  116.0  SEX CRIMES  PL 2631100   \n",
       "3   234788259  10/11/2021  263.0  ARSON 2,3,4  114.0       ARSON  PL 1501001   \n",
       "4   234188790  09/28/2021  578.0          NaN    NaN         NaN  PL 2223001   \n",
       "\n",
       "  LAW_CAT_CD ARREST_BORO  ARREST_PRECINCT  JURISDICTION_CODE AGE_GROUP  \\\n",
       "0          F           Q              105                 97     18-24   \n",
       "1          F           K               69                 71     25-44   \n",
       "2          F           K               61                  0     25-44   \n",
       "3          F           B               42                 71     18-24   \n",
       "4          M           B               44                  0     25-44   \n",
       "\n",
       "  PERP_SEX PERP_RACE  X_COORD_CD  Y_COORD_CD   Latitude  Longitude  \\\n",
       "0        M     BLACK     1057636      203954  40.726187 -73.735234   \n",
       "1        M     BLACK     1014340      171320  40.636868 -73.891586   \n",
       "2        M     WHITE      995244      155739  40.594145 -73.960415   \n",
       "3        M     BLACK     1009058      239616  40.824340 -73.910365   \n",
       "4        M     BLACK     1005169      246667  40.843703 -73.924395   \n",
       "\n",
       "                       New Georeferenced Column  \n",
       "0  POINT (-73.73523390399998 40.72618713000002)  \n",
       "1  POINT (-73.89158591899997 40.63686750900007)  \n",
       "2  POINT (-73.96041495199995 40.59414516900005)  \n",
       "3  POINT (-73.91036538099996 40.82433953100008)  \n",
       "4  POINT (-73.92439508899997 40.84370255600004)  "
      ]
     },
     "execution_count": 5,
     "metadata": {},
     "output_type": "execute_result"
    }
   ],
   "source": [
    "#Code to see the columns and quick preview of available data\n",
    "dataset.head()"
   ]
  },
  {
   "cell_type": "code",
   "execution_count": 6,
   "metadata": {},
   "outputs": [
    {
     "name": "stdout",
     "output_type": "stream",
     "text": [
      "<class 'pandas.core.frame.DataFrame'>\n",
      "RangeIndex: 155507 entries, 0 to 155506\n",
      "Data columns (total 19 columns):\n",
      " #   Column                    Non-Null Count   Dtype  \n",
      "---  ------                    --------------   -----  \n",
      " 0   ARREST_KEY                155507 non-null  int64  \n",
      " 1   ARREST_DATE               155507 non-null  object \n",
      " 2   PD_CD                     155478 non-null  float64\n",
      " 3   PD_DESC                   155404 non-null  object \n",
      " 4   KY_CD                     155404 non-null  float64\n",
      " 5   OFNS_DESC                 155404 non-null  object \n",
      " 6   LAW_CODE                  155507 non-null  object \n",
      " 7   LAW_CAT_CD                154114 non-null  object \n",
      " 8   ARREST_BORO               155507 non-null  object \n",
      " 9   ARREST_PRECINCT           155507 non-null  int64  \n",
      " 10  JURISDICTION_CODE         155507 non-null  int64  \n",
      " 11  AGE_GROUP                 155507 non-null  object \n",
      " 12  PERP_SEX                  155507 non-null  object \n",
      " 13  PERP_RACE                 155507 non-null  object \n",
      " 14  X_COORD_CD                155507 non-null  int64  \n",
      " 15  Y_COORD_CD                155507 non-null  int64  \n",
      " 16  Latitude                  155507 non-null  float64\n",
      " 17  Longitude                 155507 non-null  float64\n",
      " 18  New Georeferenced Column  155507 non-null  object \n",
      "dtypes: float64(4), int64(5), object(10)\n",
      "memory usage: 22.5+ MB\n"
     ]
    }
   ],
   "source": [
    "#Code to understand the Datatype for AGG reasons\n",
    "dataset.info()"
   ]
  },
  {
   "cell_type": "code",
   "execution_count": 7,
   "metadata": {},
   "outputs": [],
   "source": [
    "#Code to turn the Arrest date from String to Date format\n",
    "dataset['ARREST_DATE'] = pd.to_datetime(dataset['ARREST_DATE'])"
   ]
  },
  {
   "cell_type": "code",
   "execution_count": 8,
   "metadata": {},
   "outputs": [
    {
     "name": "stdout",
     "output_type": "stream",
     "text": [
      "<class 'pandas.core.frame.DataFrame'>\n",
      "RangeIndex: 155507 entries, 0 to 155506\n",
      "Data columns (total 19 columns):\n",
      " #   Column                    Non-Null Count   Dtype         \n",
      "---  ------                    --------------   -----         \n",
      " 0   ARREST_KEY                155507 non-null  int64         \n",
      " 1   ARREST_DATE               155507 non-null  datetime64[ns]\n",
      " 2   PD_CD                     155478 non-null  float64       \n",
      " 3   PD_DESC                   155404 non-null  object        \n",
      " 4   KY_CD                     155404 non-null  float64       \n",
      " 5   OFNS_DESC                 155404 non-null  object        \n",
      " 6   LAW_CODE                  155507 non-null  object        \n",
      " 7   LAW_CAT_CD                154114 non-null  object        \n",
      " 8   ARREST_BORO               155507 non-null  object        \n",
      " 9   ARREST_PRECINCT           155507 non-null  int64         \n",
      " 10  JURISDICTION_CODE         155507 non-null  int64         \n",
      " 11  AGE_GROUP                 155507 non-null  object        \n",
      " 12  PERP_SEX                  155507 non-null  object        \n",
      " 13  PERP_RACE                 155507 non-null  object        \n",
      " 14  X_COORD_CD                155507 non-null  int64         \n",
      " 15  Y_COORD_CD                155507 non-null  int64         \n",
      " 16  Latitude                  155507 non-null  float64       \n",
      " 17  Longitude                 155507 non-null  float64       \n",
      " 18  New Georeferenced Column  155507 non-null  object        \n",
      "dtypes: datetime64[ns](1), float64(4), int64(5), object(9)\n",
      "memory usage: 22.5+ MB\n"
     ]
    }
   ],
   "source": [
    "#Code to validate the change happend\n",
    "dataset.info()"
   ]
  },
  {
   "cell_type": "code",
   "execution_count": 9,
   "metadata": {},
   "outputs": [],
   "source": [
    "#Code to extract the month out of the date and add it to a new column\n",
    "dataset.insert(loc=2,column='c.month',value=dataset['ARREST_DATE'].dt.month_name())\n",
    "#Code to extract the Weekdayname out of the date and add it to a new column\n",
    "dataset.insert(loc=3,column='c.dayname',value=dataset['ARREST_DATE'].dt.day_name())\n",
    "#Code to extract the year out of the date and add it to a new column\n",
    "dataset.insert(loc=4,column='c.year',value=dataset['ARREST_DATE'].dt.year)\n"
   ]
  },
  {
   "cell_type": "code",
   "execution_count": 10,
   "metadata": {},
   "outputs": [
    {
     "data": {
      "text/html": [
       "<div>\n",
       "<style scoped>\n",
       "    .dataframe tbody tr th:only-of-type {\n",
       "        vertical-align: middle;\n",
       "    }\n",
       "\n",
       "    .dataframe tbody tr th {\n",
       "        vertical-align: top;\n",
       "    }\n",
       "\n",
       "    .dataframe thead th {\n",
       "        text-align: right;\n",
       "    }\n",
       "</style>\n",
       "<table border=\"1\" class=\"dataframe\">\n",
       "  <thead>\n",
       "    <tr style=\"text-align: right;\">\n",
       "      <th></th>\n",
       "      <th>ARREST_KEY</th>\n",
       "      <th>ARREST_DATE</th>\n",
       "      <th>c.month</th>\n",
       "      <th>c.dayname</th>\n",
       "      <th>c.year</th>\n",
       "      <th>PD_CD</th>\n",
       "      <th>PD_DESC</th>\n",
       "      <th>KY_CD</th>\n",
       "      <th>OFNS_DESC</th>\n",
       "      <th>LAW_CODE</th>\n",
       "      <th>...</th>\n",
       "      <th>ARREST_PRECINCT</th>\n",
       "      <th>JURISDICTION_CODE</th>\n",
       "      <th>AGE_GROUP</th>\n",
       "      <th>PERP_SEX</th>\n",
       "      <th>PERP_RACE</th>\n",
       "      <th>X_COORD_CD</th>\n",
       "      <th>Y_COORD_CD</th>\n",
       "      <th>Latitude</th>\n",
       "      <th>Longitude</th>\n",
       "      <th>New Georeferenced Column</th>\n",
       "    </tr>\n",
       "  </thead>\n",
       "  <tbody>\n",
       "    <tr>\n",
       "      <th>0</th>\n",
       "      <td>238013474</td>\n",
       "      <td>2021-12-18</td>\n",
       "      <td>December</td>\n",
       "      <td>Saturday</td>\n",
       "      <td>2021</td>\n",
       "      <td>157.0</td>\n",
       "      <td>RAPE 1</td>\n",
       "      <td>104.0</td>\n",
       "      <td>RAPE</td>\n",
       "      <td>PL 1303501</td>\n",
       "      <td>...</td>\n",
       "      <td>105</td>\n",
       "      <td>97</td>\n",
       "      <td>18-24</td>\n",
       "      <td>M</td>\n",
       "      <td>BLACK</td>\n",
       "      <td>1057636</td>\n",
       "      <td>203954</td>\n",
       "      <td>40.726187</td>\n",
       "      <td>-73.735234</td>\n",
       "      <td>POINT (-73.73523390399998 40.72618713000002)</td>\n",
       "    </tr>\n",
       "  </tbody>\n",
       "</table>\n",
       "<p>1 rows × 22 columns</p>\n",
       "</div>"
      ],
      "text/plain": [
       "   ARREST_KEY ARREST_DATE   c.month c.dayname  c.year  PD_CD PD_DESC  KY_CD  \\\n",
       "0   238013474  2021-12-18  December  Saturday    2021  157.0  RAPE 1  104.0   \n",
       "\n",
       "  OFNS_DESC    LAW_CODE  ... ARREST_PRECINCT JURISDICTION_CODE  AGE_GROUP  \\\n",
       "0      RAPE  PL 1303501  ...             105                97      18-24   \n",
       "\n",
       "   PERP_SEX PERP_RACE X_COORD_CD Y_COORD_CD   Latitude  Longitude  \\\n",
       "0         M     BLACK    1057636     203954  40.726187 -73.735234   \n",
       "\n",
       "                       New Georeferenced Column  \n",
       "0  POINT (-73.73523390399998 40.72618713000002)  \n",
       "\n",
       "[1 rows x 22 columns]"
      ]
     },
     "execution_count": 10,
     "metadata": {},
     "output_type": "execute_result"
    }
   ],
   "source": [
    "#Code to see the month,dayname & year columns \n",
    "dataset.head(1)"
   ]
  },
  {
   "cell_type": "code",
   "execution_count": 11,
   "metadata": {},
   "outputs": [
    {
     "data": {
      "text/plain": [
       "2021    155507\n",
       "Name: c.year, dtype: int64"
      ]
     },
     "execution_count": 11,
     "metadata": {},
     "output_type": "execute_result"
    }
   ],
   "source": [
    " #Code to understand the year range of the data\n",
    "# >>> Since working with one year of data, there is no need to use the year column\n",
    "dataset['c.year'].value_counts().sort_index()\n"
   ]
  },
  {
   "cell_type": "code",
   "execution_count": 13,
   "metadata": {},
   "outputs": [
    {
     "data": {
      "text/plain": [
       "ASSAULT 3 & RELATED OFFENSES            26855\n",
       "FELONY ASSAULT                          15579\n",
       "PETIT LARCENY                           13178\n",
       "DANGEROUS DRUGS                         10450\n",
       "MISCELLANEOUS PENAL LAW                 10328\n",
       "CRIMINAL MISCHIEF & RELATED OF           9294\n",
       "ROBBERY                                  7848\n",
       "DANGEROUS WEAPONS                        7206\n",
       "GRAND LARCENY                            6671\n",
       "VEHICLE AND TRAFFIC LAWS                 5264\n",
       "BURGLARY                                 4895\n",
       "OFFENSES AGAINST PUBLIC ADMINI           4682\n",
       "OFFENSES INVOLVING FRAUD                 3832\n",
       "SEX CRIMES                               3586\n",
       "OFF. AGNST PUB ORD SENSBLTY &            3345\n",
       "FORGERY                                  3127\n",
       "INTOXICATED & IMPAIRED DRIVING           2334\n",
       "POSSESSION OF STOLEN PROPERTY            1858\n",
       "OTHER TRAFFIC INFRACTION                 1632\n",
       "MURDER & NON-NEGL. MANSLAUGHTE           1513\n",
       "FOR OTHER AUTHORITIES                    1393\n",
       "OTHER OFFENSES RELATED TO THEF           1369\n",
       "CRIMINAL TRESPASS                        1269\n",
       "GRAND LARCENY OF MOTOR VEHICLE           1181\n",
       "OFFENSES AGAINST THE PERSON               903\n",
       "NYS LAWS-UNCLASSIFIED FELONY              706\n",
       "OTHER STATE LAWS (NON PENAL LA            643\n",
       "RAPE                                      606\n",
       "UNAUTHORIZED USE OF A VEHICLE             472\n",
       "BURGLAR'S TOOLS                           404\n",
       "INTOXICATED/IMPAIRED DRIVING              382\n",
       "FRAUDS                                    335\n",
       "ALCOHOLIC BEVERAGE CONTROL LAW            313\n",
       "GAMBLING                                  294\n",
       "PROSTITUTION & RELATED OFFENSES           233\n",
       "THEFT-FRAUD                               225\n",
       "THEFT OF SERVICES                         190\n",
       "OTHER STATE LAWS                          187\n",
       "ARSON                                     122\n",
       "ADMINISTRATIVE CODE                        86\n",
       "KIDNAPPING & RELATED OFFENSES              85\n",
       "OFFENSES AGAINST PUBLIC SAFETY             77\n",
       "AGRICULTURE & MRKTS LAW-UNCLASSIFIED       72\n",
       "ANTICIPATORY OFFENSES                      64\n",
       "HARRASSMENT 2                              42\n",
       "ENDAN WELFARE INCOMP                       35\n",
       "MOVING INFRACTIONS                         34\n",
       "FRAUDULENT ACCOSTING                       34\n",
       "DISORDERLY CONDUCT                         33\n",
       "CHILD ABANDONMENT/NON SUPPORT              28\n",
       "HOMICIDE-NEGLIGENT,UNCLASSIFIE             28\n",
       "OTHER STATE LAWS (NON PENAL LAW)           15\n",
       "OFFENSES RELATED TO CHILDREN               13\n",
       "KIDNAPPING                                 12\n",
       "JOSTLING                                   11\n",
       "HOMICIDE-NEGLIGENT-VEHICLE                 10\n",
       "ESCAPE 3                                    7\n",
       "LOITERING/GAMBLING (CARDS, DIC              5\n",
       "PARKING OFFENSES                            3\n",
       "ADMINISTRATIVE CODES                        2\n",
       "FELONY SEX CRIMES                           2\n",
       "NEW YORK CITY HEALTH CODE                   1\n",
       "KIDNAPPING AND RELATED OFFENSES             1\n",
       "Name: OFNS_DESC, dtype: int64"
      ]
     },
     "execution_count": 13,
     "metadata": {},
     "output_type": "execute_result"
    }
   ],
   "source": [
    "#code to expand the dataframe to see all values\n",
    "pd.set_option('display.max_rows',100)\n",
    "#code used to be able to determine which values to filter by \n",
    "dataset['OFNS_DESC'].value_counts()"
   ]
  },
  {
   "cell_type": "code",
   "execution_count": 14,
   "metadata": {},
   "outputs": [],
   "source": [
    "#Code to drop blank values in order to run a String contains statement\n",
    "dataset1 = dataset.dropna()\n",
    "\n",
    "#code to filter down to the Central Park Borough 'Manhattan'\n",
    "datasetcentralpark = dataset1[dataset1['ARREST_BORO']=='M']\n",
    "\n",
    "#code that creates a LIST of selected text\n",
    "searchfor = ['SEX','KIDNAPPING','RAPE','HARRASSMENT','ROBBERY']\n",
    "\n",
    "#Code which runs a nested string contain function with a join to the list that filters down the dataset\n",
    "datasetfilter = datasetcentralpark[datasetcentralpark['OFNS_DESC'].str.contains('|'.join(searchfor))]"
   ]
  },
  {
   "cell_type": "code",
   "execution_count": 15,
   "metadata": {},
   "outputs": [
    {
     "data": {
      "text/plain": [
       "ROBBERY                            2088\n",
       "SEX CRIMES                          724\n",
       "RAPE                                105\n",
       "HARRASSMENT 2                        17\n",
       "KIDNAPPING & RELATED OFFENSES        14\n",
       "KIDNAPPING                            3\n",
       "FELONY SEX CRIMES                     2\n",
       "KIDNAPPING AND RELATED OFFENSES       1\n",
       "Name: OFNS_DESC, dtype: int64"
      ]
     },
     "execution_count": 15,
     "metadata": {},
     "output_type": "execute_result"
    }
   ],
   "source": [
    "#Code to see the new filter by types\n",
    "datasetfilter['OFNS_DESC'].value_counts()"
   ]
  },
  {
   "cell_type": "code",
   "execution_count": 19,
   "metadata": {},
   "outputs": [
    {
     "name": "stdout",
     "output_type": "stream",
     "text": [
      "Wednesday    575\n",
      "Tuesday      505\n",
      "Thursday     467\n",
      "Friday       454\n",
      "Monday       401\n",
      "Saturday     302\n",
      "Sunday       250\n",
      "Name: c.dayname, dtype: int64\n"
     ]
    },
    {
     "data": {
      "image/png": "[encoded data removed]",
      "text/plain": [
       "<Figure size 432x288 with 1 Axes>"
      ]
     },
     "metadata": {
      "needs_background": "light"
     },
     "output_type": "display_data"
    }
   ],
   "source": [
    "table = datasetfilter['c.dayname'].value_counts()\n",
    "datasetfilter['c.dayname'].value_counts().plot.barh(width=0.5,color=['green'],title='Least to Most dangerous')\n",
    "print(table)"
   ]
  }
 ],
 "metadata": {
  "kernelspec": {
   "display_name": "Python 3",
   "language": "python",
   "name": "python3"
  },
  "language_info": {
   "codemirror_mode": {
    "name": "ipython",
    "version": 3
   },
   "file_extension": ".py",
   "mimetype": "text/x-python",
   "name": "python",
   "nbconvert_exporter": "python",
   "pygments_lexer": "ipython3",
   "version": "3.8.5"
  }
 },
 "nbformat": 4,
 "nbformat_minor": 4
}
